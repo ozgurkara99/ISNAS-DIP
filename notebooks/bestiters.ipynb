{
 "cells": [
  {
   "cell_type": "code",
   "execution_count": 1,
   "metadata": {},
   "outputs": [
    {
     "name": "stdout",
     "output_type": "stream",
     "text": [
      "/srv/beegfs02/scratch/biwismrschool21/data/NAS-DIP Summer Research\n"
     ]
    }
   ],
   "source": [
    "%cd '/srv/beegfs02/scratch/biwismrschool21/data/NAS-DIP Summer Research'"
   ]
  },
  {
   "cell_type": "code",
   "execution_count": null,
   "metadata": {},
   "outputs": [],
   "source": []
  }
 ],
 "metadata": {
  "interpreter": {
   "hash": "d36af05bf02ada37d5a559d03f99548a1da5ab8cab57bf2ce22fb91ff57e76f5"
  },
  "kernelspec": {
   "display_name": "Python 3.8.11 64-bit ('pytcu10': conda)",
   "name": "python3"
  },
  "language_info": {
   "codemirror_mode": {
    "name": "ipython",
    "version": 3
   },
   "file_extension": ".py",
   "mimetype": "text/x-python",
   "name": "python",
   "nbconvert_exporter": "python",
   "pygments_lexer": "ipython3",
   "version": "3.8.11"
  },
  "orig_nbformat": 4
 },
 "nbformat": 4,
 "nbformat_minor": 2
}
