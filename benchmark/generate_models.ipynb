{
 "cells": [
  {
   "cell_type": "code",
   "execution_count": 34,
   "metadata": {},
   "outputs": [
    {
     "name": "stdout",
     "output_type": "stream",
     "text": [
      "/usr/bmicnas02/data-biwi-01/eisnas_dip/ISNAS-DIP\n"
     ]
    }
   ],
   "source": [
    "%cd '/usr/bmicnas02/data-biwi-01/eisnas_dip/ISNAS-DIP'\n",
    "\n",
    "import random\n",
    "from itertools import product\n",
    "\n",
    "import utils.common_utils as cu\n",
    "import utils.basic_utils as bu\n",
    "import utils.funcs as fn\n",
    "import utils.denoising_utils as du\n",
    "import utils.inpainting_utils as iu\n",
    "import utils.sr_utils as su\n",
    "import utils.model_utils as mu\n",
    "import utils.metric_utils as metu\n",
    "from utils.paths import ROOT, IMG_EXT\n",
    "from utils.keywords import *\n",
    "from utils.common_types import *"
   ]
  },
  {
   "cell_type": "code",
   "execution_count": 35,
   "metadata": {},
   "outputs": [],
   "source": [
    "num_models = 1000\n",
    "\n",
    "model_tuples = []\n",
    "for i in range(num_models):\n",
    "    index = random.randint(1, 324)\n",
    "    connection = np.random.randint(0, 2, (9, ))\n",
    "\n",
    "    skip_matrix = np.zeros((5, 5), dtype=int)\n",
    "    for k, j in product(range(5), range(5)):\n",
    "        skip_matrix[k, j] = connection[j - k + 4]\n",
    "    skip_matrix = np.reshape(skip_matrix, (-1, ))\n",
    "    skip_matrix = ''.join(map(str, skip_matrix))\n",
    "\n",
    "    model_tuple = (index, skip_matrix)\n",
    "    model_tuples.append(model_tuple)\n",
    "model_tuples = set(model_tuples)\n",
    "\n",
    "with open('benchmark/models.csv', 'w') as f:\n",
    "\n",
    "    for model_tuple in model_tuples:\n",
    "        index, skip_matrix = model_tuple\n",
    "        row = f'{index},{skip_matrix}\\n'\n",
    "        f.write(row)"
   ]
  },
  {
   "cell_type": "code",
   "execution_count": null,
   "metadata": {},
   "outputs": [],
   "source": []
  }
 ],
 "metadata": {
  "interpreter": {
   "hash": "feba965f097d2fb01470f2068f66083e36744acb47aca4136af029ff627edbd1"
  },
  "kernelspec": {
   "display_name": "Python 3.9.12 ('ersin')",
   "language": "python",
   "name": "python3"
  },
  "language_info": {
   "codemirror_mode": {
    "name": "ipython",
    "version": 3
   },
   "file_extension": ".py",
   "mimetype": "text/x-python",
   "name": "python",
   "nbconvert_exporter": "python",
   "pygments_lexer": "ipython3",
   "version": "3.9.12"
  },
  "orig_nbformat": 4
 },
 "nbformat": 4,
 "nbformat_minor": 2
}
